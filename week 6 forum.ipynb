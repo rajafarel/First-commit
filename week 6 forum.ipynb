{
 "cells": [
  {
   "cell_type": "code",
   "execution_count": 1,
   "metadata": {},
   "outputs": [
    {
     "name": "stdout",
     "output_type": "stream",
     "text": [
      "{'gold': 550, 'pouch': ['flint', 'twine', 'gemstone'], 'backpack': ['bedroll', 'bread loaf', 'xylophone'], 'pocket': ['seashell', 'strange berry', 'lint']}\n"
     ]
    }
   ],
   "source": [
    "inventory = {'gold' : 500,'pouch' : ['flint', 'twine', 'gemstone'],'backpack' : ['xylophone','dagger', 'bedroll','bread loaf']}\n",
    "inventory.update({'pocket':['seashell', 'strange berry', 'lint']})\n",
    "inventory[\"backpack\"].sort()\n",
    "inventory[\"backpack\"].remove(\"dagger\")\n",
    "inventory[\"gold\"] += 50\n",
    "print(inventory)"
   ]
  },
  {
   "cell_type": "code",
   "execution_count": 2,
   "metadata": {},
   "outputs": [
    {
     "name": "stdout",
     "output_type": "stream",
     "text": [
      "banana\n",
      "Prices : 4\n",
      "Stocks : 6\n",
      "apple\n",
      "Prices : 2\n",
      "Stocks : 0\n",
      "orange\n",
      "Prices : 1.5\n",
      "Stocks : 32\n",
      "pear\n",
      "Prices : 3\n",
      "Stocks : 15\n",
      "Total is : 117.0\n"
     ]
    }
   ],
   "source": [
    "prices = {\"banana\": 4,\n",
    "\"apple\": 2,\n",
    "\"orange\": 1.5,\n",
    "\"pear\": 3}\n",
    "stock = {\n",
    "\"banana\" : 6,\n",
    "\"apple\"  : 0,\n",
    "\"orange\" : 32,\n",
    "\"pear\"   : 15\n",
    "}\n",
    "\n",
    "for key in prices:\n",
    "    print(key)\n",
    "    print(\"Prices :\", prices[key])\n",
    "    print(\"Stocks :\",stock[key])\n",
    "\n",
    "total = 0\n",
    "for key in prices:\n",
    "    total = prices[key]*stock[key] + total\n",
    "\n",
    "print(\"Total is :\",total)"
   ]
  },
  {
   "cell_type": "code",
   "execution_count": 3,
   "metadata": {},
   "outputs": [
    {
     "name": "stdout",
     "output_type": "stream",
     "text": [
      "5.5\n"
     ]
    }
   ],
   "source": [
    "list = [\"banana\", \"orange\", \"apple\"]\n",
    "\n",
    "stock = {\n",
    " \"banana\": 6,\n",
    " \"apple\": 0,\n",
    " \"orange\": 32,\n",
    " \"pear\": 15\n",
    "}\n",
    "prices = {\n",
    " \"banana\": 4,\n",
    " \"apple\": 2,\n",
    " \"orange\": 1.5,\n",
    " \"pear\": 3\n",
    "}\n",
    "def compute_bills(food):\n",
    "    total = 0\n",
    "    for i in food:\n",
    "        if stock[i] > 0:\n",
    "            stock[i] -= 1\n",
    "            total += prices[i]\n",
    "    return total\n",
    "    \n",
    "print(compute_bills(list))"
   ]
  },
  {
   "cell_type": "code",
   "execution_count": 5,
   "metadata": {},
   "outputs": [
    {
     "name": "stdout",
     "output_type": "stream",
     "text": [
      "Eren\n",
      "[90.0, 97.0, 75.0, 92.0]\n",
      "[88.0, 40.0, 94.0]\n",
      "[75.0, 90.0]\n",
      "Mikasa\n",
      "[100.0, 92.0, 98.0, 100.0]\n",
      "[82.0, 83.0, 91.0]\n",
      "[89.0, 97.0]\n",
      "Armin\n",
      "[0.0, 87.0, 75.0, 22.0]\n",
      "[0.0, 75.0, 78.0]\n",
      "[100.0, 100.0]\n",
      "Eren's class average: 80.55\n",
      "The class average is: 83.86666666666666\n",
      "The average letter grade for students is: B\n"
     ]
    }
   ],
   "source": [
    "eren = {\n",
    " \"name\": \"Eren\",\n",
    " \"homework\": [90.0,97.0,75.0,92.0],\n",
    " \"quizzes\": [88.0,40.0,94.0],\n",
    " \"tests\": [75.0,90.0]\n",
    "}\n",
    "mikasa = {\n",
    "\"name\": \"Mikasa\",\n",
    "\"homework\": [100.0, 92.0, 98.0, 100.0],\n",
    "\"quizzes\": [82.0, 83.0, 91.0],\n",
    "\"tests\": [89.0, 97.0]\n",
    "}\n",
    "armin = {\n",
    "\"name\": \"Armin\",\n",
    "\"homework\": [0.0, 87.0, 75.0, 22.0],\n",
    "\"quizzes\": [0.0, 75.0, 78.0],\n",
    "\"tests\": [100.0, 100.0]\n",
    "}\n",
    "\n",
    "students = [eren,mikasa,armin]\n",
    "for i in students:\n",
    "    print(i[\"name\"])\n",
    "    print(i[\"homework\"])\n",
    "    print(i[\"quizzes\"])\n",
    "    print(i[\"tests\"])\n",
    "\n",
    "def average(numbers):\n",
    "    total = float(sum(numbers))\n",
    "    return total / len(numbers)\n",
    "\n",
    "def get_average(students):\n",
    "    homework = average(students[\"homework\"])\n",
    "    quizzes = average(students[\"quizzes\"])\n",
    "    tests = average(students[\"tests\"])\n",
    "    total = 0.1*homework +0.3*quizzes + 0.6*tests\n",
    "    return total\n",
    "\n",
    "def get_letter_grade(score):\n",
    "    if score >= 90:\n",
    "        return \"A\"\n",
    "    elif score >= 80:\n",
    "        return \"B\"\n",
    "    elif score >= 70:\n",
    "        return \"C\"\n",
    "    elif score >= 60:\n",
    "        return \"D\"\n",
    "    else:\n",
    "        return \"F\"\n",
    "\n",
    "\n",
    "\n",
    "def get_class_average(students):\n",
    "    results = []\n",
    "    for student in students:\n",
    "        results.append(get_average(student))\n",
    "    return average(results)\n",
    "\n",
    "\n",
    "print(f\"Eren's class average: {get_average(eren)}\")\n",
    "print(f\"The class average is: {get_class_average(students)}\")\n",
    "print(f\"The average letter grade for students is: {get_letter_grade(get_class_average(students))}\")"
   ]
  },
  {
   "cell_type": "code",
   "execution_count": null,
   "metadata": {},
   "outputs": [],
   "source": [
    "#MCQ Answers\n",
    "1. B\n",
    "2. D\n",
    "3. A\n",
    "4. B\n",
    "5. B\n",
    "6. C\n",
    "7. A\n",
    "8. C\n",
    "9. B\n"
   ]
  }
 ],
 "metadata": {
  "kernelspec": {
   "display_name": "Python 3.10.7 64-bit",
   "language": "python",
   "name": "python3"
  },
  "language_info": {
   "codemirror_mode": {
    "name": "ipython",
    "version": 3
   },
   "file_extension": ".py",
   "mimetype": "text/x-python",
   "name": "python",
   "nbconvert_exporter": "python",
   "pygments_lexer": "ipython3",
   "version": "3.10.7"
  },
  "orig_nbformat": 4,
  "vscode": {
   "interpreter": {
    "hash": "5868cae2ba662c6375216d195b7526ff910cb4ee64e9ead123d0039383cd46cb"
   }
  }
 },
 "nbformat": 4,
 "nbformat_minor": 2
}
